{
 "cells": [
  {
   "cell_type": "code",
   "execution_count": 1,
   "id": "5fb2893b",
   "metadata": {},
   "outputs": [],
   "source": [
    "def max_tab(tab, size):\n",
    "    maxC = 0\n",
    "\n",
    "    for e in range(1, size) :\n",
    "        if tab[e] > tab[maxC]:\n",
    "            maxC = e\n",
    "    return maxC"
   ]
  },
  {
   "cell_type": "code",
   "execution_count": null,
   "id": "58f0bf8b",
   "metadata": {},
   "outputs": [],
   "source": []
  },
  {
   "cell_type": "code",
   "execution_count": 10,
   "id": "66ee6b72",
   "metadata": {},
   "outputs": [],
   "source": [
    "\n",
    "#from housemarkets import allocTools\n",
    "\n",
    "import allocTools\n",
    "\n",
    "# Classe pour un agent, num c'est son id, SP ses préférences (qui ne sont pas nécessairement SP...),\n",
    "# u son type d'utilité (additive, max, min) et initial son bundle de base\n",
    "class Player(object):\n",
    "\n",
    "    def __init__(self, num, initial, SP, u):\n",
    "        self.num = num\n",
    "        self.SP = SP\n",
    "        self.u = u\n",
    "        self.bundle = initial\n",
    "\n",
    "    # Calcule l'utilité du bundle passé en paramètre\n",
    "    def utility(self, b):\n",
    "        return self.u(b, self.SP)\n",
    "\n",
    "    # Calcule l'utilité courante de l'agent\n",
    "    def selfutility(self):\n",
    "        return self.u(self.bundle, self.SP)\n",
    "\n",
    "    # Applique le swap pour les biens b1 et b2 à l'agent\n",
    "    def swap(self, b1, b2):\n",
    "\n",
    "        for b in b1:\n",
    "            self.bundle.remove(b)\n",
    "        self.bundle += list(b2)\n",
    "\n",
    "\n",
    "    def get_best_item(self, size):\n",
    "\n",
    "        return allocTools.max_tab(self.SP, size)\n",
    "\n",
    "    def get_best_item_restr(self, lFreeHouses, nbFreeHouses):\n",
    "        bestItem = lFreeHouses[0]\n",
    "        for i in lFreeHouses[1:] :\n",
    "            if self.SP[i] > self.SP[bestItem] :\n",
    "                bestItem = i\n",
    "\n",
    "        return bestItem\n",
    "\n",
    "    def get_good_item(self,size,tab):\n",
    "\n",
    "\n",
    "\n",
    "\n",
    "        return allocTools.max_good(self.SP,size,tab)\n",
    "\n",
    "\n",
    "\n",
    "    def get_best_sec_item(self,size, tab):\n",
    "\n",
    "        return allocTools.max_sec_tab(self.SP, size, tab)\n",
    "\n",
    "\n",
    "    def get_best_sec_item_restr(self, isFH, lFreeHouses, nbFreeHouses):\n",
    "        e = 0\n",
    "        while (e < nbFreeHouses and isFH[lFreeHouses[e]] == True):\n",
    "            e = e + 1\n",
    "        if e == nbFreeHouses:\n",
    "            return -1\n",
    "        else:\n",
    "            maxC = e\n",
    "            for e2 in range(e + 1, nbFreeHouses):\n",
    "                if self.SP[lFreeHouses[e2]] > self.SP[maxC] and isFH[lFreeHouses[e2]] == False:\n",
    "                    maxC = e2\n",
    "            return lFreeHouses[maxC]\n",
    "\n",
    "\n",
    "    def assign_bundle(self, b):\n",
    "        self.bundle = b\n",
    "\n",
    "    def __eq__(self, other):\n",
    "        if (isinstance(self, other.__class__)):\n",
    "            return self.num == other.num\n",
    "        return False\n",
    "\n",
    "    def __ne__(self, other):\n",
    "        return not self == other\n",
    "\n",
    "    def __str__(self):\n",
    "        return \"Player\" + str(self.num) + \"\\n\\tUtility: \" + str(self.SP) + \"\\n\\tBundle: \" + str(self.bundle) + \"\\n\"\n",
    "\n",
    "    def __repr__(self):\n",
    "        return self.__str__()\n"
   ]
  },
  {
   "cell_type": "code",
   "execution_count": 3,
   "id": "cdeb22b5",
   "metadata": {},
   "outputs": [],
   "source": [
    "def get_best_item(self, size):\n",
    "\n",
    "    return allocTools.max_tab(self.SP, size)\n"
   ]
  },
  {
   "cell_type": "code",
   "execution_count": 13,
   "id": "400badaf",
   "metadata": {},
   "outputs": [],
   "source": [
    "def additive(bundle, SP):\n",
    "\tres = 0\n",
    "\tfor b in bundle:\n",
    "\t\tres += SP[b]\n",
    "\treturn res"
   ]
  },
  {
   "cell_type": "code",
   "execution_count": null,
   "id": "c242c2ff",
   "metadata": {},
   "outputs": [],
   "source": []
  },
  {
   "cell_type": "code",
   "execution_count": 8,
   "id": "9fb251f8",
   "metadata": {},
   "outputs": [],
   "source": [
    "u=additive(\n",
    "init = [[0], [1],[2],[3],[4]]\n",
    "\n",
    "preferences = [[1, 2, 3, 4, 5], [2, 1, 3, 4, 5], [3, 2, 1, 4, 5], [4, 2, 3, 1, 5], [5, 2, 3, 4, 1]]"
   ]
  },
  {
   "cell_type": "code",
   "execution_count": 17,
   "id": "337bc77a",
   "metadata": {},
   "outputs": [
    {
     "name": "stdout",
     "output_type": "stream",
     "text": [
      "4\n"
     ]
    }
   ],
   "source": [
    "a=preferences.copy()\n",
    "\n",
    "a[1].sort()\n",
    "print(a[1][-2])"
   ]
  },
  {
   "cell_type": "code",
   "execution_count": 6,
   "id": "5b139fdf",
   "metadata": {},
   "outputs": [],
   "source": [
    "import numpy as np\n",
    "import copy\n",
    "import random\n",
    "import time"
   ]
  },
  {
   "cell_type": "code",
   "execution_count": 12,
   "id": "e88b4cc3",
   "metadata": {},
   "outputs": [
    {
     "ename": "NameError",
     "evalue": "name 'player' is not defined",
     "output_type": "error",
     "traceback": [
      "\u001b[0;31m---------------------------------------------------------------------------\u001b[0m",
      "\u001b[0;31mNameError\u001b[0m                                 Traceback (most recent call last)",
      "\u001b[0;32m<ipython-input-12-89021a5e2783>\u001b[0m in \u001b[0;36m<module>\u001b[0;34m\u001b[0m\n\u001b[1;32m      1\u001b[0m \u001b[0minitial\u001b[0m \u001b[0;34m=\u001b[0m \u001b[0mcopy\u001b[0m\u001b[0;34m.\u001b[0m\u001b[0mdeepcopy\u001b[0m\u001b[0;34m(\u001b[0m\u001b[0minit\u001b[0m\u001b[0;34m)\u001b[0m\u001b[0;34m\u001b[0m\u001b[0;34m\u001b[0m\u001b[0m\n\u001b[0;32m----> 2\u001b[0;31m \u001b[0mplayers\u001b[0m \u001b[0;34m=\u001b[0m \u001b[0;34m[\u001b[0m\u001b[0mplayer\u001b[0m\u001b[0;34m.\u001b[0m\u001b[0mPlayer\u001b[0m\u001b[0;34m(\u001b[0m\u001b[0mi\u001b[0m\u001b[0;34m,\u001b[0m \u001b[0minitial\u001b[0m\u001b[0;34m[\u001b[0m\u001b[0mi\u001b[0m\u001b[0;34m]\u001b[0m\u001b[0;34m,\u001b[0m \u001b[0mutilities\u001b[0m\u001b[0;34m[\u001b[0m\u001b[0mi\u001b[0m\u001b[0;34m]\u001b[0m\u001b[0;34m,\u001b[0m \u001b[0mu\u001b[0m\u001b[0;34m)\u001b[0m \u001b[0;32mfor\u001b[0m \u001b[0mi\u001b[0m \u001b[0;32min\u001b[0m \u001b[0mrange\u001b[0m\u001b[0;34m(\u001b[0m\u001b[0mlen\u001b[0m\u001b[0;34m(\u001b[0m\u001b[0minitial\u001b[0m\u001b[0;34m)\u001b[0m\u001b[0;34m)\u001b[0m\u001b[0;34m]\u001b[0m\u001b[0;34m\u001b[0m\u001b[0;34m\u001b[0m\u001b[0m\n\u001b[0m\u001b[1;32m      3\u001b[0m \u001b[0mnb_resources\u001b[0m \u001b[0;34m=\u001b[0m \u001b[0msum\u001b[0m\u001b[0;34m(\u001b[0m\u001b[0;34m[\u001b[0m\u001b[0mlen\u001b[0m\u001b[0;34m(\u001b[0m\u001b[0mi\u001b[0m\u001b[0;34m)\u001b[0m \u001b[0;32mfor\u001b[0m \u001b[0mi\u001b[0m \u001b[0;32min\u001b[0m \u001b[0minitial\u001b[0m\u001b[0;34m]\u001b[0m\u001b[0;34m)\u001b[0m\u001b[0;34m\u001b[0m\u001b[0;34m\u001b[0m\u001b[0m\n\u001b[1;32m      4\u001b[0m \u001b[0;34m\u001b[0m\u001b[0m\n\u001b[1;32m      5\u001b[0m \u001b[0;32mfor\u001b[0m \u001b[0mp\u001b[0m \u001b[0;32min\u001b[0m \u001b[0mplayers\u001b[0m \u001b[0;34m:\u001b[0m\u001b[0;34m\u001b[0m\u001b[0;34m\u001b[0m\u001b[0m\n",
      "\u001b[0;32m<ipython-input-12-89021a5e2783>\u001b[0m in \u001b[0;36m<listcomp>\u001b[0;34m(.0)\u001b[0m\n\u001b[1;32m      1\u001b[0m \u001b[0minitial\u001b[0m \u001b[0;34m=\u001b[0m \u001b[0mcopy\u001b[0m\u001b[0;34m.\u001b[0m\u001b[0mdeepcopy\u001b[0m\u001b[0;34m(\u001b[0m\u001b[0minit\u001b[0m\u001b[0;34m)\u001b[0m\u001b[0;34m\u001b[0m\u001b[0;34m\u001b[0m\u001b[0m\n\u001b[0;32m----> 2\u001b[0;31m \u001b[0mplayers\u001b[0m \u001b[0;34m=\u001b[0m \u001b[0;34m[\u001b[0m\u001b[0mplayer\u001b[0m\u001b[0;34m.\u001b[0m\u001b[0mPlayer\u001b[0m\u001b[0;34m(\u001b[0m\u001b[0mi\u001b[0m\u001b[0;34m,\u001b[0m \u001b[0minitial\u001b[0m\u001b[0;34m[\u001b[0m\u001b[0mi\u001b[0m\u001b[0;34m]\u001b[0m\u001b[0;34m,\u001b[0m \u001b[0mutilities\u001b[0m\u001b[0;34m[\u001b[0m\u001b[0mi\u001b[0m\u001b[0;34m]\u001b[0m\u001b[0;34m,\u001b[0m \u001b[0mu\u001b[0m\u001b[0;34m)\u001b[0m \u001b[0;32mfor\u001b[0m \u001b[0mi\u001b[0m \u001b[0;32min\u001b[0m \u001b[0mrange\u001b[0m\u001b[0;34m(\u001b[0m\u001b[0mlen\u001b[0m\u001b[0;34m(\u001b[0m\u001b[0minitial\u001b[0m\u001b[0;34m)\u001b[0m\u001b[0;34m)\u001b[0m\u001b[0;34m]\u001b[0m\u001b[0;34m\u001b[0m\u001b[0;34m\u001b[0m\u001b[0m\n\u001b[0m\u001b[1;32m      3\u001b[0m \u001b[0mnb_resources\u001b[0m \u001b[0;34m=\u001b[0m \u001b[0msum\u001b[0m\u001b[0;34m(\u001b[0m\u001b[0;34m[\u001b[0m\u001b[0mlen\u001b[0m\u001b[0;34m(\u001b[0m\u001b[0mi\u001b[0m\u001b[0;34m)\u001b[0m \u001b[0;32mfor\u001b[0m \u001b[0mi\u001b[0m \u001b[0;32min\u001b[0m \u001b[0minitial\u001b[0m\u001b[0;34m]\u001b[0m\u001b[0;34m)\u001b[0m\u001b[0;34m\u001b[0m\u001b[0;34m\u001b[0m\u001b[0m\n\u001b[1;32m      4\u001b[0m \u001b[0;34m\u001b[0m\u001b[0m\n\u001b[1;32m      5\u001b[0m \u001b[0;32mfor\u001b[0m \u001b[0mp\u001b[0m \u001b[0;32min\u001b[0m \u001b[0mplayers\u001b[0m \u001b[0;34m:\u001b[0m\u001b[0;34m\u001b[0m\u001b[0;34m\u001b[0m\u001b[0m\n",
      "\u001b[0;31mNameError\u001b[0m: name 'player' is not defined"
     ]
    }
   ],
   "source": [
    "initial = copy.deepcopy(init)\n",
    "players = [player.Player(i, initial[i], utilities[i], u) for i in range(len(initial))]\n",
    "nb_resources = sum([len(i) for i in initial])\n",
    "\n",
    "for p in players :\n",
    "    m1= p.get_best_item(nb_resources)\n",
    "    #print(\"M1:\")\n",
    "    isFH[m1] = True\n",
    "    FH[p.num] = m1\n",
    "    \n",
    "FH = [-1] * nb_resources\n",
    "\n",
    "GH=[-1]*nb_resources\n",
    "\n",
    "isFH = [False] * nb_resources"
   ]
  },
  {
   "cell_type": "code",
   "execution_count": null,
   "id": "8b4b095e",
   "metadata": {},
   "outputs": [],
   "source": []
  }
 ],
 "metadata": {
  "kernelspec": {
   "display_name": "Python 3",
   "language": "python",
   "name": "python3"
  },
  "language_info": {
   "codemirror_mode": {
    "name": "ipython",
    "version": 3
   },
   "file_extension": ".py",
   "mimetype": "text/x-python",
   "name": "python",
   "nbconvert_exporter": "python",
   "pygments_lexer": "ipython3",
   "version": "3.8.8"
  }
 },
 "nbformat": 4,
 "nbformat_minor": 5
}
